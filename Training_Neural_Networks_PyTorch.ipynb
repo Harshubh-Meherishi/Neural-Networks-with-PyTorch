{
  "nbformat": 4,
  "nbformat_minor": 0,
  "metadata": {
    "colab": {
      "name": "Training Neural Networks PyTorch.ipynb",
      "provenance": [],
      "authorship_tag": "ABX9TyNMM0LXkQucdKAEv0qw8os7",
      "include_colab_link": true
    },
    "kernelspec": {
      "name": "python3",
      "display_name": "Python 3"
    }
  },
  "cells": [
    {
      "cell_type": "markdown",
      "metadata": {
        "id": "view-in-github",
        "colab_type": "text"
      },
      "source": [
        "<a href=\"https://colab.research.google.com/github/Harshubh-Meherishi/Neural-Networks-with-PyTorch/blob/master/Training_Neural_Networks_PyTorch.ipynb\" target=\"_parent\"><img src=\"https://colab.research.google.com/assets/colab-badge.svg\" alt=\"Open In Colab\"/></a>"
      ]
    },
    {
      "cell_type": "code",
      "metadata": {
        "id": "zTdhb28CTXJV",
        "colab_type": "code",
        "colab": {}
      },
      "source": [
        "## Loss Function is Mean Squared Error\n",
        "import torch \n",
        "from torch import nn\n",
        "import torch.nn.functional as F\n",
        "from torchvision import datasets, transforms\n",
        "\n",
        "#transform to normalize the data\n",
        "transform = transforms.Compose([transforms.ToTensor(),\n",
        "                               transforms.Normalize((0.5,),(0.5,),(0.5,))\n",
        "                               ])\n",
        "\n",
        "#Download and load the data\n",
        "trainset = datasets.MNIST('Mnist-data/',download = True, train = True, transform = transform)\n",
        "trainloader = torch.utils.data.DataLoader(trainset,batch_size = 64, shuffle = True)"
      ],
      "execution_count": 1,
      "outputs": []
    },
    {
      "cell_type": "code",
      "metadata": {
        "id": "-5H_XMQpVo9p",
        "colab_type": "code",
        "colab": {
          "base_uri": "https://localhost:8080/",
          "height": 33
        },
        "outputId": "941a12c8-b887-4a7f-eeb3-a859853da620"
      },
      "source": [
        "#Building a feed forward network with cross-entropy loss\n",
        "model = nn.Sequential(nn.Linear(784,128),\n",
        "                      nn.ReLU(),\n",
        "                      nn.Linear(128,64),\n",
        "                      nn.ReLU(),\n",
        "                      nn.Linear(64,10))\n",
        "#define the loss\n",
        "criterion = nn.CrossEntropyLoss()\n",
        "\n",
        "#get data\n",
        "images, labels = next(iter(trainloader))\n",
        "#Flattening\n",
        "images = images.view(images.shape[0],-1)\n",
        "\n",
        "logits = model(images)\n",
        "\n",
        "loss = criterion(logits,labels)\n",
        "print(loss)"
      ],
      "execution_count": 2,
      "outputs": [
        {
          "output_type": "stream",
          "text": [
            "tensor(2.3251, grad_fn=<NllLossBackward>)\n"
          ],
          "name": "stdout"
        }
      ]
    },
    {
      "cell_type": "markdown",
      "metadata": {
        "id": "72w4rFiwYWPX",
        "colab_type": "text"
      },
      "source": [
        "## Negative Likelihood Loss"
      ]
    },
    {
      "cell_type": "code",
      "metadata": {
        "id": "nj0Ll1E9YCJB",
        "colab_type": "code",
        "colab": {
          "base_uri": "https://localhost:8080/",
          "height": 33
        },
        "outputId": "5a6b9cb4-8c23-4a5d-ebdc-d70e0f6a7210"
      },
      "source": [
        "#Building a feed forward network with NLL loss\n",
        "model = nn.Sequential(nn.Linear(784,128),\n",
        "                      nn.ReLU(),\n",
        "                      nn.Linear(128,64),\n",
        "                      nn.ReLU(),\n",
        "                      nn.Linear(64,10),\n",
        "                      nn.LogSoftmax(dim = 1))\n",
        "#define the loss\n",
        "criterion = nn.NLLLoss()\n",
        "\n",
        "#get data\n",
        "images, labels = next(iter(trainloader))\n",
        "#Flattening\n",
        "images = images.view(images.shape[0],-1)\n",
        "\n",
        "logps = model(images)\n",
        "\n",
        "loss = criterion(logps,labels)\n",
        "print(loss)"
      ],
      "execution_count": 3,
      "outputs": [
        {
          "output_type": "stream",
          "text": [
            "tensor(2.3092, grad_fn=<NllLossBackward>)\n"
          ],
          "name": "stdout"
        }
      ]
    },
    {
      "cell_type": "code",
      "metadata": {
        "id": "QC7FB7GJY-uC",
        "colab_type": "code",
        "colab": {
          "base_uri": "https://localhost:8080/",
          "height": 180
        },
        "outputId": "59dfd804-4e2c-4c56-ba99-ea01684454a2"
      },
      "source": [
        "print(\"Before backward pass \\n\", model[0].weight.grad)\n",
        "loss.backward()\n",
        "print(\"After backward pass \\n\", model[0].weight.grad)\n"
      ],
      "execution_count": 4,
      "outputs": [
        {
          "output_type": "stream",
          "text": [
            "Before backward pass \n",
            " None\n",
            "After backward pass \n",
            " tensor([[-0.0019, -0.0019, -0.0019,  ..., -0.0019, -0.0019, -0.0019],\n",
            "        [-0.0020, -0.0020, -0.0020,  ..., -0.0020, -0.0020, -0.0020],\n",
            "        [-0.0001, -0.0001, -0.0001,  ..., -0.0001, -0.0001, -0.0001],\n",
            "        ...,\n",
            "        [ 0.0004,  0.0004,  0.0004,  ...,  0.0004,  0.0004,  0.0004],\n",
            "        [ 0.0006,  0.0006,  0.0006,  ...,  0.0006,  0.0006,  0.0006],\n",
            "        [ 0.0022,  0.0022,  0.0022,  ...,  0.0022,  0.0022,  0.0022]])\n"
          ],
          "name": "stdout"
        }
      ]
    },
    {
      "cell_type": "code",
      "metadata": {
        "id": "YO3BV8Kybokp",
        "colab_type": "code",
        "colab": {
          "base_uri": "https://localhost:8080/",
          "height": 33
        },
        "outputId": "d48b5bf2-b8ce-4790-95b1-c30c453a5581"
      },
      "source": [
        "print(model[0].weight.shape)"
      ],
      "execution_count": 5,
      "outputs": [
        {
          "output_type": "stream",
          "text": [
            "torch.Size([128, 784])\n"
          ],
          "name": "stdout"
        }
      ]
    },
    {
      "cell_type": "code",
      "metadata": {
        "id": "ibrVu2mRb5I5",
        "colab_type": "code",
        "colab": {}
      },
      "source": [
        ""
      ],
      "execution_count": 5,
      "outputs": []
    }
  ]
}